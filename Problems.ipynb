{
 "cells": [
  {
   "cell_type": "code",
   "execution_count": 2,
   "id": "6b9f064f",
   "metadata": {},
   "outputs": [
    {
     "name": "stdout",
     "output_type": "stream",
     "text": [
      "Enter quantity for item 1: 1\n",
      "Enter price for item 1: 34\n",
      "Enter quantity for item 2: 1\n",
      "Enter price for item 2: 32\n",
      "Enter quantity for item 3: 1\n",
      "Enter price for item 3: 23\n",
      "Total cost after discount: $89.00\n"
     ]
    }
   ],
   "source": [
    "\n",
    "quantity_item1 = int(input(\"Enter quantity for item 1: \"))\n",
    "price_item1 = int(input(\"Enter price for item 1: \"))\n",
    "quantity_item2 = int(input(\"Enter quantity for item 2: \"))\n",
    "price_item2 = int(input(\"Enter price for item 2: \"))\n",
    "quantity_item3 = int(input(\"Enter quantity for item 3: \"))\n",
    "price_item3 = int(input(\"Enter price for item 3: \"))\n",
    "total_cost_item1 = (quantity_item1 * price_item1)\n",
    "total_cost_item2 = (quantity_item2 * price_item2)\n",
    "total_cost_item3 = (quantity_item3 * price_item3)\n",
    "total_cost = total_cost_item1 + total_cost_item2 + total_cost_item3\n",
    "if 100 <= total_cost <= 200:\n",
    "    discount = 0.05\n",
    "    total_cost -= total_cost * discount\n",
    "elif total_cost > 200:\n",
    "    discount = 0.1\n",
    "    total_cost -= total_cost * discount\n",
    "print(f\"Total cost after discount: ${total_cost:.2f}\")"
   ]
  },
  {
   "cell_type": "code",
   "execution_count": 5,
   "id": "f28d47fb",
   "metadata": {},
   "outputs": [
    {
     "name": "stdout",
     "output_type": "stream",
     "text": [
      "enter the temprature in celsius:40\n",
      "staying hydrated\n"
     ]
    }
   ],
   "source": [
    "# Program for temprature converter\n",
    "temp=int(input(\"enter the temprature in celsius:\"))\n",
    "if temp <=0:\n",
    "    print(\" wear a warm dress\")\n",
    "elif temp >=30:\n",
    "    print(\"staying hydrated\")"
   ]
  },
  {
   "cell_type": "code",
   "execution_count": 7,
   "id": "60f71022",
   "metadata": {},
   "outputs": [
    {
     "name": "stdout",
     "output_type": "stream",
     "text": [
      "Enter a name: dua\n",
      "Enter a name: alishba\n",
      "Enter a name: fatima\n",
      "Contact List:\n",
      "['dua', 'alishba', 'fatima']\n",
      "Enter a name to check if it's in the list: alishba\n",
      "alishba is in the contact list.\n"
     ]
    }
   ],
   "source": [
    "\n",
    "contact_list = []\n",
    "for _ in range(3):\n",
    "    name = input(\"Enter a name: \")\n",
    "    contact_list.append(name)\n",
    "\n",
    "print(\"Contact List:\")\n",
    "print(contact_list)\n",
    "search_name = input(\"Enter a name to check if it's in the list: \")\n",
    "if search_name in contact_list:\n",
    "    print(f\"{search_name} is in the contact list.\")\n",
    "else:\n",
    "    print(f\"{search_name} is not in the contact list.\")\n"
   ]
  },
  {
   "cell_type": "code",
   "execution_count": null,
   "id": "d2e841aa",
   "metadata": {},
   "outputs": [],
   "source": [
    "def factorial (n):\n",
    "    if n==0 or n==1:\n",
    "        return 1\n",
    "    else:\n",
    "        return n*\n",
    "    calculate_fac\n",
    "num=int(input(\"enter the number:\"))\n",
    "if num <0:\n",
    "    "
   ]
  },
  {
   "cell_type": "code",
   "execution_count": 3,
   "id": "21b4d3a3",
   "metadata": {},
   "outputs": [
    {
     "name": "stdout",
     "output_type": "stream",
     "text": [
      "level is a plindrome:True\n",
      "python is a palindrome:False\n"
     ]
    }
   ],
   "source": [
    "def is_palindrome(word):\n",
    "    cleaned_word=''.join(char.lower() for char in word )\n",
    "    return cleaned_word==cleaned_word[::-1]\n",
    "word1=\"level\"\n",
    "word2=\"python\"\n",
    "\n",
    "result1 = is_palindrome(word1)\n",
    "result2 = is_palindrome(word2)\n",
    "\n",
    "print(f\"{word1} is a plindrome:{result1}\")\n",
    "print(f\"{word2} is a palindrome:{result2}\")"
   ]
  },
  {
   "cell_type": "code",
   "execution_count": 4,
   "id": "d00c1edd",
   "metadata": {},
   "outputs": [
    {
     "name": "stdout",
     "output_type": "stream",
     "text": [
      "List of squares: [1, 4, 9, 16, 25, 36, 49, 64, 81, 100]\n",
      "List of even squares: [4, 16, 36, 64, 100]\n"
     ]
    }
   ],
   "source": [
    "def generate_square_list():\n",
    "    return [i**2 for i in range(1, 11)]\n",
    "\n",
    "def even_squares(square_list):\n",
    "    return [square for square in square_list if square % 2 == 0]\n",
    "\n",
    "square_list = generate_square_list()\n",
    "\n",
    "even_squares = even_squares(square_list)\n",
    "\n",
    "print(\"List of squares:\", square_list)\n",
    "print(\"List of even squares:\", even_squares)"
   ]
  },
  {
   "cell_type": "code",
   "execution_count": 5,
   "id": "42c692a0",
   "metadata": {},
   "outputs": [
    {
     "name": "stdout",
     "output_type": "stream",
     "text": [
      "21\n"
     ]
    }
   ],
   "source": [
    "# What will be output:\n",
    "#1)\n",
    "a=5\n",
    "b=a+2\n",
    "c=b*3\n",
    "print(c)"
   ]
  },
  {
   "cell_type": "code",
   "execution_count": 6,
   "id": "5c157c8b",
   "metadata": {},
   "outputs": [
    {
     "name": "stdout",
     "output_type": "stream",
     "text": [
      "4\n"
     ]
    }
   ],
   "source": [
    "#2)\n",
    "x=10\n",
    "y=3\n",
    "result=x//y + x%y\n",
    "print(result)"
   ]
  },
  {
   "cell_type": "code",
   "execution_count": 9,
   "id": "36b9235e",
   "metadata": {},
   "outputs": [
    {
     "name": "stdout",
     "output_type": "stream",
     "text": [
      "0\n",
      "1\n",
      "2\n"
     ]
    }
   ],
   "source": [
    "#3)\n",
    "for i in range(5):\n",
    "    if i==3:\n",
    "        break\n",
    "    print(i)"
   ]
  },
  {
   "cell_type": "code",
   "execution_count": 10,
   "id": "1d25a643",
   "metadata": {},
   "outputs": [
    {
     "name": "stdout",
     "output_type": "stream",
     "text": [
      "[1, 2, 3]\n"
     ]
    }
   ],
   "source": [
    "#4)\n",
    "my_list=[1,2,3]\n",
    "my_tuple =tuple(my_list)\n",
    "print(my_list)"
   ]
  },
  {
   "cell_type": "code",
   "execution_count": 11,
   "id": "df5f3018",
   "metadata": {},
   "outputs": [
    {
     "name": "stdout",
     "output_type": "stream",
     "text": [
      "20\n"
     ]
    }
   ],
   "source": [
    "#5)\n",
    "student_info ={\"name\":\"Alice\",\"age\":20,\"grade\":\"A\"}\n",
    "print(student_info[\"age\"])"
   ]
  },
  {
   "cell_type": "code",
   "execution_count": 12,
   "id": "4742bf3c",
   "metadata": {},
   "outputs": [
    {
     "name": "stdout",
     "output_type": "stream",
     "text": [
      "16\n"
     ]
    }
   ],
   "source": [
    "def square(x):\n",
    "    return x**2\n",
    "\n",
    "result=square(4)\n",
    "print(result)"
   ]
  },
  {
   "cell_type": "code",
   "execution_count": 13,
   "id": "d01e6ab8",
   "metadata": {},
   "outputs": [
    {
     "name": "stdout",
     "output_type": "stream",
     "text": [
      "1\n"
     ]
    }
   ],
   "source": [
    "num1=7\n",
    "num2=3\n",
    "result=num1%num2\n",
    "print(result)"
   ]
  },
  {
   "cell_type": "code",
   "execution_count": 14,
   "id": "566c0110",
   "metadata": {},
   "outputs": [
    {
     "name": "stdout",
     "output_type": "stream",
     "text": [
      "16\n"
     ]
    }
   ],
   "source": [
    "#8)\n",
    "value =2**3*2\n",
    "print(value)"
   ]
  },
  {
   "cell_type": "code",
   "execution_count": 18,
   "id": "28c812a9",
   "metadata": {},
   "outputs": [
    {
     "name": "stdout",
     "output_type": "stream",
     "text": [
      "odd and greater than 10\n"
     ]
    }
   ],
   "source": [
    "x=15\n",
    "if x>10 and x%2==1:\n",
    "    print(\"odd and greater than 10\")\n",
    "else:\n",
    "     print(\"not meeting criteria\")"
   ]
  },
  {
   "cell_type": "code",
   "execution_count": 19,
   "id": "5537cf7e",
   "metadata": {},
   "outputs": [
    {
     "name": "stdout",
     "output_type": "stream",
     "text": [
      "2\n",
      "4\n",
      "6\n"
     ]
    }
   ],
   "source": [
    "for i in range(2,8,2):\n",
    "    print(i)"
   ]
  },
  {
   "cell_type": "code",
   "execution_count": null,
   "id": "5c5a1954",
   "metadata": {},
   "outputs": [],
   "source": []
  }
 ],
 "metadata": {
  "kernelspec": {
   "display_name": "Python 3 (ipykernel)",
   "language": "python",
   "name": "python3"
  },
  "language_info": {
   "codemirror_mode": {
    "name": "ipython",
    "version": 3
   },
   "file_extension": ".py",
   "mimetype": "text/x-python",
   "name": "python",
   "nbconvert_exporter": "python",
   "pygments_lexer": "ipython3",
   "version": "3.11.5"
  }
 },
 "nbformat": 4,
 "nbformat_minor": 5
}
