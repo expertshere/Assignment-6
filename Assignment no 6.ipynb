{
 "cells": [
  {
   "cell_type": "code",
   "execution_count": 7,
   "id": "ad08fbd4",
   "metadata": {},
   "outputs": [
    {
     "name": "stdout",
     "output_type": "stream",
     "text": [
      "The total ticket price for 7 adults on Monday is $5\n"
     ]
    }
   ],
   "source": [
    "# Movie ticket prices\n",
    "def calculate_ticket_price(age, day, num_tickets):\n",
    "    base_price = 10  \n",
    "\n",
    "    if age == \"adult\":\n",
    "        discount = 0  \n",
    "    elif age == \"child\":\n",
    "        discount = 3 \n",
    "    elif age == \"senior\":\n",
    "        discount = 2  \n",
    "\n",
    "    if day.lower() in [\"saturday\", \"sunday\"]:\n",
    "        discount += 4  \n",
    "\n",
    "    if num_tickets >= 6:\n",
    "        discount += 5  \n",
    "\n",
    "    final_price = max(base_price - discount, 0)\n",
    "    return final_price\n",
    "num_tickets = 7\n",
    "ticket_price = calculate_ticket_price(\"adult\", \"Monday\", num_tickets)\n",
    "print(f\"The total ticket price for {num_tickets} adults on Monday is ${ticket_price}\")\n"
   ]
  },
  {
   "cell_type": "code",
   "execution_count": 14,
   "id": "a1625bc7",
   "metadata": {},
   "outputs": [
    {
     "name": "stdout",
     "output_type": "stream",
     "text": [
      "The total bill amount is: $19.04\n"
     ]
    }
   ],
   "source": [
    "# Restaurant bill calculator\n",
    "def calculate_total_bill(items, quantities, prices, discount_percentage=0, tax_percentage=0, split_bill=False, num_people=1):\n",
    "    if len(items) != len(quantities) or len(quantities) != len(prices):\n",
    "        return \"Error: Please provide valid inputs for items, quantities, and prices.\"\n",
    "\n",
    "    total_amount = 0\n",
    "    for quantity, price in zip(quantities, prices):\n",
    "        total_amount += quantity * price\n",
    "\n",
    "    discount_amount = total_amount * (discount_percentage / 100)\n",
    "    total_amount -= discount_amount\n",
    "    tax_amount = total_amount * (tax_percentage / 100)\n",
    "    total_amount += tax_amount\n",
    "\n",
    "    if split_bill and num_people > 0:\n",
    "        total_amount /= num_people\n",
    "\n",
    "    return total_amount\n",
    "items = [\"Item1\", \"Item2\", \"Item3\"]\n",
    "quantities = [3, 2, 3]\n",
    "prices = [5.64, 10.8, 6.75]\n",
    "discount_percentage = 10\n",
    "tax_percentage = 8\n",
    "split_bill = True\n",
    "num_people = 3\n",
    "\n",
    "total_bill_amount = calculate_total_bill(items, quantities, prices, discount_percentage, tax_percentage, split_bill, num_people)\n",
    "print(f\"The total bill amount is: ${total_bill_amount:.2f}\")\n",
    "\n"
   ]
  },
  {
   "cell_type": "code",
   "execution_count": 1,
   "id": "34f3cbbc",
   "metadata": {},
   "outputs": [
    {
     "name": "stdout",
     "output_type": "stream",
     "text": [
      "{'sentiment': 'Positive', 'keywords': ['they', 'ð\\x9f\\x9a\\x80', '#tech', 'excited', 'amazing', '#innovation', 'gadgets'], 'emojis': [' ', ' ', ' ', ' ', ' ', ' ', ' ', ' ', 'ð', '\\x9f', '\\x80', ' ', ' ', ' ', ' '], 'hashtags': ['tech', 'innovation']}\n"
     ]
    }
   ],
   "source": [
    "# Social media post analyzer\n",
    "def analyze_social_media_post(post_text):\n",
    "    positive_words = [\"happy\", \"excited\", \"love\", \"awesome\"]\n",
    "    negative_words = [\"sad\", \"disappointed\", \"hate\", \"awful\"]\n",
    "\n",
    "    sentiment_score = sum(post_text.lower().count(word) for word in positive_words) - sum(\n",
    "        post_text.lower().count(word) for word in negative_words)\n",
    "\n",
    "    if sentiment_score > 0:\n",
    "        sentiment = \"Positive\"\n",
    "    elif sentiment_score < 0:\n",
    "        sentiment = \"Negative\"\n",
    "    else:\n",
    "        sentiment = \"Neutral\"\n",
    "\n",
    "    words = [word.strip('.,?!') for word in post_text.lower().split()]\n",
    "    keywords = [word for word in set(words) if len(word) > 3]\n",
    "\n",
    "    emojis = [char for char in post_text if char in \"ðððð¢ð ð¡\"]\n",
    "\n",
    "    hashtags = [word[1:] for word in words if word.startswith(\"#\")]\n",
    "\n",
    "    analysis_result = {\n",
    "        \"sentiment\": sentiment,\n",
    "        \"keywords\": keywords,\n",
    "        \"emojis\": emojis,\n",
    "        \"hashtags\": hashtags\n",
    "    }\n",
    "\n",
    "    return analysis_result\n",
    "\n",
    "social_media_post = \"Excited to try out the new #tech gadgets! ð They are amazing! #innovation\"\n",
    "result = analyze_social_media_post(social_media_post)\n",
    "print(result)"
   ]
  },
  {
   "cell_type": "code",
   "execution_count": 2,
   "id": "d25ee477",
   "metadata": {},
   "outputs": [
    {
     "name": "stdout",
     "output_type": "stream",
     "text": [
      "The estimated travel cost for 7 days in America with a luxury style is $18200.00\n"
     ]
    }
   ],
   "source": [
    "# travel cost estimator\n",
    "def estimate_travel_cost(destination, travel_style, duration):\n",
    "    \n",
    "    base_transportation_cost = 600  \n",
    "    base_accommodation_cost = 1000\n",
    "    base_activities_cost = 400\n",
    "    \n",
    "    \n",
    "    if travel_style == 'budget':\n",
    "        style_multiplier = 0.9\n",
    "    elif travel_style == 'luxury':\n",
    "        style_multiplier = 1.3\n",
    "    else:\n",
    "        raise ValueError(\"Invalid travel style. Choose 'budget' or 'luxury'.\")\n",
    "\n",
    "    total_cost = (base_transportation_cost + base_accommodation_cost + base_activities_cost) * style_multiplier * duration\n",
    "\n",
    "    return total_cost\n",
    "\n",
    "\n",
    "destination = \"America\"\n",
    "travel_style = \"luxury\"\n",
    "duration = 7\n",
    "estimated_cost = estimate_travel_cost(destination, travel_style, duration)\n",
    "print(f\"The estimated travel cost for {duration} days in {destination} with a {travel_style} style is ${estimated_cost:.2f}\")"
   ]
  },
  {
   "cell_type": "code",
   "execution_count": null,
   "id": "9ce143fd",
   "metadata": {},
   "outputs": [],
   "source": []
  }
 ],
 "metadata": {
  "kernelspec": {
   "display_name": "Python 3 (ipykernel)",
   "language": "python",
   "name": "python3"
  },
  "language_info": {
   "codemirror_mode": {
    "name": "ipython",
    "version": 3
   },
   "file_extension": ".py",
   "mimetype": "text/x-python",
   "name": "python",
   "nbconvert_exporter": "python",
   "pygments_lexer": "ipython3",
   "version": "3.11.5"
  }
 },
 "nbformat": 4,
 "nbformat_minor": 5
}
